{
  "nbformat": 4,
  "nbformat_minor": 0,
  "metadata": {
    "colab": {
      "provenance": []
    },
    "kernelspec": {
      "name": "python3",
      "display_name": "Python 3"
    },
    "language_info": {
      "name": "python"
    }
  },
  "cells": [
    {
      "cell_type": "markdown",
      "source": [
        "# Data Structure\n",
        "1.What are data structures, and why are they important?\n",
        "-->Data structures are ways to organize and store data efficiently. They include arrays, linked lists, stacks, queues, trees, graphs, and hash tables. They are important because they improve efficiency, optimize resource usage, aid in problem-solving, and help manage data systematically.\n",
        "\n",
        "2. Explain the difference between mutable and immutable data types with examples?\n",
        "-->Mutable Data Types\n",
        "Mutable data types can be modified after creation.\n",
        "Examples:\n",
        "Lists: A list's elements can be changed, added, or removed.\n",
        "my_list = [1, 2, 3] my_list[0] = 4 # my_list is now [4, 2, 3]\n",
        "Dictionaries: You can change the values associated with keys, add new key-value pairs, or remove them.\n",
        "my_dict = {\"a\": 1, \"b\": 2} my_dict[\"a\"] = 3 # my_dict is now {\"a\": 3, \"b\": 2}\n",
        "\n",
        "Immutable Data Types\n",
        "Immutable data types cannot be changed once they are created.\n",
        "Examples:\n",
        "Tuples: You cannot change the elements of a tuple after creation.\n",
        "my_tuple = (1, 2, 3) my_tuple[0] = 4 # This will raise an error\n",
        "Strings: Once a string is created, you cannot modify its characters.\n",
        "my_string = \"hello\" my_string[0] = \"H\" # This will raise an error\n",
        "\n",
        "3. What are the main differences between lists and tuples in Python?\n",
        "--> * Mutability\tMutable (can be changed)\tImmutable (cannot be changed)\n",
        "  * Syntax\tDefined using square brackets []\tDefined using parentheses ()\n",
        "  * Methods\tSupports methods like append(), remove(), pop(), etc.\tLimited methods, mainly for counting and finding index (count(), index())\n",
        "  * Performance\tSlower due to dynamic resizing and additional methods\tFaster due to fixed size and immutability\n",
        "  * Use Cases\tSuitable for collections that may need modifications\tSuitable for fixed collections or constants\n",
        "  LIST\n",
        " ex: my_list = [1, 2, 3]\n",
        "my_list.append(4)  # my_list is now [1, 2, 3, 4]\n",
        "\n",
        "Tuple\n",
        "ex: my_tuple = (1, 2, 3)\n",
        "# my_tuple cannot be modified, attempting to do so will raise an error\n",
        "\n",
        "4.Describe how dictionaries store data?\n",
        "-->Dictionaries in Python store data as key-value pairs, where each key is unique and is used to retrieve the corresponding value. Here's a simplified explanation of how dictionaries manage this:\n",
        "\n",
        "Hashing: When a key is added to a dictionary, it is passed through a hash function to generate a unique hash value (an integer). This hash value determines where the key-value pair is stored in the underlying array (called a hash table).\n",
        "\n",
        "Buckets: The dictionary uses an array where each position in the array is called a bucket. Each key-value pair is stored in a specific bucket based on the hash value of the key.\n",
        "\n",
        "Collision Handling: Sometimes, different keys can hash to the same bucket (a collision). Python dictionaries handle collisions using a method called chaining, where each bucket contains a linked list of key-value pairs. If two keys hash to the same bucket, they are stored in the linked list within that bucket.\n",
        "\n",
        "Efficiency: Accessing values by keys in a dictionary is efficient (average time complexity is O(1)) because the hash function allows for quick computation of the bucket location. However, in the worst-case scenario (when many collisions occur), the time complexity can degrade to O(n), where n is the number of key-value pairs.\n",
        "\n",
        "\n",
        "5. Why might you use a set instead of a list in Python?\n",
        "--> Using a set instead of a list in Python can be advantageous in several scenarios:\n",
        "\n",
        "Uniqueness: Sets automatically eliminate duplicate elements. If you need to store a collection of unique items, sets are ideal.\n",
        "ex\n",
        "my_list = [1, 2, 2, 3, 3, 3]\n",
        "my_set = set(my_list)  # my_set is {1, 2, 3}\n",
        "Performance: Sets provide faster membership tests than lists because they are implemented as hash tables. Checking if an element exists in a set is on average O(1) time complexity, whereas in a list, it's O(n).\n",
        "\n",
        "python\n",
        "my_set = {1, 2, 3}\n",
        "2 in my_set  # True (fast check)\n",
        "my_list = [1, 2, 3]\n",
        "2 in my_list  # True (slower check)\n",
        "Set Operations: Sets support mathematical operations like union, intersection, and difference, which can be very useful in certain applications.\n",
        "\n",
        "python\n",
        "set1 = {1, 2, 3}\n",
        "set2 = {3, 4, 5}\n",
        "union = set1 | set2  # {1, 2, 3, 4, 5}\n",
        "intersection = set1 & set2  # {3}\n",
        "difference = set1 - set2  # {1, 2}\n",
        "\n",
        "6. What is a string in Python, and how is it different from a list?\n",
        "--> A string in Python is a sequence of characters used to represent text. Strings are immutable, meaning once they are created, their contents cannot be changed.\n",
        "Feature\tStrings\tLists\n",
        "Mutability\tImmutable (cannot be changed after creation)\tMutable (can be changed)\n",
        "Elements\tConsists of characters\tCan contain any data type (e.g., integers, floats, strings)\n",
        "Syntax\tDefined using quotes: single ' or double \"\tDefined using square brackets []\n",
        "Usage\tUsed for text manipulation\tUsed for collections of items, which can be modified\n",
        "Methods\tMethods like split(), join(), replace(), etc.\tMethods like append(), remove(), extend(), etc.\n",
        "ex string\n",
        "my_string = \"hello\"\n",
        "# Immutable: you cannot change a character directly\n",
        "new_string = my_string.replace(\"h\", \"H\")  # Creates a new string \"Hello\"\n",
        "ex list\n",
        "my_list = [1, 2, 3]\n",
        "# Mutable: you can change the list directly\n",
        "my_list[0] = 4  # my_list is now [4, 2, 3]\n",
        "\n",
        "7.  How do tuples ensure data integrity in Python?\n",
        "-->Tuples ensure data integrity in Python by being immutable, meaning that once they are created, their content cannot be changed. This immutability guarantees that the data within a tuple remains consistent and unaltered throughout the program's execution. This is especially useful for storing constant values or data that should not be modified accidentally, providing a layer of protection against unintended changes.\n",
        "\n",
        "In essence, using tuples helps maintain the integrity and consistency of your data.\n",
        "\n",
        "8. What is a hash table, and how does it relate to dictionaries in Python?\n",
        "-->A hash table is a data structure that maps keys to values using a hash function to compute an index into an array of buckets or slots. This allows for efficient data retrieval because the hash function determines the location where the key-value pair is stored.\n",
        "\n",
        "Relationship to Dictionaries in Python:\n",
        "In Python, dictionaries are implemented using hash tables. This means that when you create a dictionary and add key-value pairs, Python uses a hash function to determine where each pair should be stored in the underlying array. This allows for:\n",
        "\n",
        "Fast Access: Retrieving a value by its key is very fast, on average O(1) time complexity.\n",
        "\n",
        "Collision Handling: If two keys hash to the same index (a collision), Python handles this efficiently using methods like chaining or open.\n",
        "\n",
        "9. Can lists contain different data types in Python?\n",
        "Yes, lists in Python can contain different data types. You can store integers, floats, strings, other lists, tuples, dictionaries, and even custom objects all within a single list.\n",
        "ex\n",
        "mixed_list = [1, 3.14, 'hello', [5, 6], ('a', 'b'), {'key': 'value'}]\n",
        "print(mixed_list)\n",
        "# Output: [1, 3.14, 'hello', [5, 6], ('a', 'b'), {'key': 'value'}]\n",
        "\n",
        "10. Explain why strings are immutable in Python?\n",
        "-->Strings in Python are immutable, meaning their contents cannot be changed after they are created. This design choice provides several benefits:\n",
        "\n",
        "Performance: Immutable objects can be optimized better by the Python interpreter, as they don't change. This allows for more efficient memory management.\n",
        "\n",
        "Security: Immutability ensures that string data remains consistent and unaltered, preventing accidental or malicious modifications, which is crucial in security-sensitive applications.\n",
        "\n",
        "Hashing: Strings are often used as keys in dictionaries, which rely on the immutability of keys for efficient hash-based lookups. If strings were mutable, their hash values could change, leading to inconsistencies.\n",
        "\n",
        "Simplicity: Immutable objects simplify reasoning about code, as their state doesn't change. This reduces the likelihood of bugs and makes the code easier to understand and maintain.\n",
        "\n",
        "11. What advantages do dictionaries offer over lists for certain tasks?\n",
        "-->Dictionaries offer several advantages over lists for specific tasks due to their unique characteristics:\n",
        "\n",
        "Key-Value Pair Storage: Dictionaries store data as key-value pairs, allowing for meaningful associations between elements.\n",
        "# Example:\n",
        "person = {'name': 'Alice', 'age': 25, 'city': 'New York'}\n",
        "\n",
        "Fast Lookup: Retrieving a value using a key in a dictionary is very fast (average time complexity O(1)), whereas finding an item in a list requires a linear search (O(n)).\n",
        "# Example:\n",
        "name = person['name']  # Fast lookup\n",
        "\n",
        "Uniqueness of Keys: Dictionary keys are unique, preventing duplicate entries, which helps ensure data integrity.\n",
        "# Example:\n",
        "inventory = {'apple': 10, 'banana': 5}\n",
        "inventory['apple'] = 15  # Updates quantity, no duplicates\n",
        "\n",
        "Dynamic Data Handling: Dictionaries are great for handling dynamic data where you need to frequently update, add, or remove key-value pairs.\n",
        "# Example:\n",
        "scores = {}\n",
        "scores['Alice'] = 85\n",
        "scores['Bob'] = 90\n",
        "scores.pop('Alice')  # Removes 'Alice' entry\n",
        "\n",
        "Flexibility: Dictionaries can store various data types as keys and values, providing flexibility in how data is structured and accessed.\n",
        "# Example:\n",
        "mixed_dict = {'number': 42, 'text': 'hello', 'list': [1, 2, 3]}\n",
        "\n",
        "12.  Describe a scenario where using a tuple would be preferable over a list\n",
        "One scenario where using a tuple would be preferable over a list is when you need to store a collection of items that should not be changed after creation, ensuring data integrity and preventing accidental modifications.\n",
        "\n",
        "Example:\n",
        "Storing Coordinates If you're working with geographical data and need to store the coordinates (latitude and longitude) of a location, using a tuple ensures that the coordinates remain fixed and unaltered throughout the program.\n",
        "\n",
        "# Using a tuple to store coordinates\n",
        "coordinates = (12.9716, 77.5946)  # Coordinates for Bengaluru\n",
        "\n",
        "# Tuples are immutable, so these coordinates cannot be changed accidentally\n",
        "\n",
        "Using a tuple in this scenario provides the following benefits:\n",
        "\n",
        "Immutability: The coordinates cannot be modified, preserving their integrity.\n",
        "\n",
        "Clarity: It clearly indicates that the collection is a fixed set of data.\n",
        "\n",
        "Performance: Tuples are generally faster and use less memory compared to lists.\n",
        "\n",
        "13.  How do sets handle duplicate values in Python?\n",
        "-->In Python, sets automatically eliminate duplicate values. When you add an element to a set, it checks for the presence of that element. If the element is already in the set, it won't be added again, ensuring that all elements in a set are unique.\n",
        "\n",
        "Example:\n",
        "my_set = {1, 2, 2, 3, 4, 4, 4}\n",
        "# The set will contain only unique elements\n",
        "print(my_set)  # Output: {1, 2, 3, 4}\n",
        "\n",
        "In this example, the duplicates 2 and 4 are removed, and the set contains only unique values. This property makes sets useful for tasks that require uniqueness, such as removing duplicates from a list.\n",
        "\n",
        "14.  How does the “in” keyword work differently for lists and dictionaries?\n",
        "-->the in keyword works differently for lists and dictionaries in Python, primarily due to their underlying data structures:\n",
        "\n",
        "Lists:\n",
        "For lists, the in keyword checks for the presence of an element by iterating through the entire list. This has a time complexity of O(n), where n is the number of elements in the list.\n",
        "my_list = [1, 2, 3, 4]\n",
        "print(2 in my_list)  # Output: True\n",
        "print(5 in my_list)  # Output: False\n",
        "\n",
        "Dictionaries:\n",
        "For dictionaries, the in keyword checks for the presence of a key, not a value. This operation is very efficient, with an average time complexity of O(1), due to the use of a hash table.\n",
        "my_dict = {'a': 1, 'b': 2, 'c': 3}\n",
        "print('a' in my_dict)  # Output: True\n",
        "print(1 in my_dict)    # Output: False (checks for keys, not values)\n",
        "\n",
        "15.  Can you modify the elements of a tuple? Explain why or why not?\n",
        "-->No, you cannot modify the elements of a tuple in Python. This is because tuples are immutable, meaning their contents cannot be changed after they are created. This immutability ensures that the data within a tuple remains consistent and unchanged, providing stability and reliability for the stored data.\n",
        "\n",
        "For example:\n",
        "\n",
        "my_tuple = (1, 2, 3)\n",
        "my_tuple[0] = 4  # This will raise a TypeError, as tuples are immutable\n",
        "If you need a collection of items that can be modified, you should use a list instead of a tuple.\n",
        "\n",
        "16.  What is a nested dictionary, and give an example of its use case?\n",
        "-->A nested dictionary in Python is a dictionary within a dictionary. It allows for more complex data structures by enabling hierarchical data storage. Each key in a nested dictionary maps to another dictionary.\n",
        "\n",
        "Example Use Case:\n",
        "Storing Information About Students Imagine you need to store information about students in a class, including their grades in different subjects. A nested dictionary can organize this information neatly.\n",
        "\n",
        "python\n",
        "students = {\n",
        "    'Alice': {\n",
        "        'age': 25,\n",
        "        'grades': {\n",
        "            'math': 'A',\n",
        "            'science': 'B'\n",
        "        }\n",
        "    },\n",
        "    'Bob': {\n",
        "        'age': 24,\n",
        "        'grades': {\n",
        "            'math': 'B',\n",
        "            'science': 'A'\n",
        "        }\n",
        "    }\n",
        "}\n",
        "\n",
        "# Accessing data\n",
        "print(students['Alice']['grades']['math'])  # Output: A\n",
        "\n",
        "\n",
        "17.  Describe the time complexity of accessing elements in a dictionary?\n",
        "-->The time complexity of accessing elements in a dictionary in Python is generally O(1), or constant time. This means that the time it takes to retrieve a value using a key is independent of the number of elements in the dictionary.\n",
        "\n",
        "Why O(1) Time Complexity?\n",
        "Hashing: Dictionaries use a hash table to store key-value pairs. When you provide a key, the dictionary uses a hash function to compute an index where the value is stored.\n",
        "\n",
        "Direct Access: Because of hashing, the dictionary can directly jump to the location of the value, making the lookup process very fast\n",
        "\n",
        "Exception:\n",
        "In the worst-case scenario, if there are many hash collisions (multiple keys hashing to the same index), the time complexity can degrade to O(n), where n is the number of elements. However, Python's implementation minimizes collisions, keeping the average time complexity at O(1).\n",
        "\n",
        "In summary, accessing elements in a dictionary is extremely efficient due to the use of hashing, making it one of the fastest operations in Python data structures.\n",
        "\n",
        "\n",
        "18.  In what situations are lists preferred over dictionaries?\n",
        "-->Lists are preferred over dictionaries in several situations due to their simplicity and specific characteristics:\n",
        "\n",
        "Order Matters: When the order of elements is important, such as maintaining a sequence of items or iterating through elements in a specific order.\n",
        "\n",
        "python\n",
        "my_list = [1, 2, 3, 4]  # Order is preserved\n",
        "Homogeneous Data: When storing a collection of similar items, like a list of numbers, strings, or objects, where each element is treated similarly.\n",
        "\n",
        "python\n",
        "my_list = ['apple', 'banana', 'cherry']\n",
        "Simple Storage and Retrieval: When you don't need key-based access and are simply storing and retrieving elements by their position (index).\n",
        "\n",
        "python\n",
        "my_list = [10, 20, 30]\n",
        "value = my_list[1]  # Retrieves the second element, 20\n",
        "Memory Efficiency: Lists generally have less overhead compared to dictionaries, making them more memory-efficient for storing large amounts of data without the need for key-value pairs.\n",
        "\n",
        "python\n",
        "large_list = list(range(1000))  # Efficient storage of 1000 integers\n",
        "Mutability with Order: When you need a mutable collection that maintains element order, allowing for easy addition, removal, and modification of elements.\n",
        "\n",
        "python\n",
        "my_list = [1, 2, 3]\n",
        "my_list.append(4)  # Adds 4 to the end of the list\n",
        "\n",
        "\n",
        "19.  Why are dictionaries considered unordered, and how does that affect data retrieval?\n",
        "-->Dictionaries are considered unordered because they do not maintain the order of elements based on the sequence of their insertion. Instead, they use a hash table for storing key-value pairs, which allows for efficient data retrieval but does not guarantee any specific order of elements.\n",
        "\n",
        "How It Affects Data Retrieval:\n",
        "Order: When you iterate over a dictionary or access its elements, the order in which key-value pairs appear is not necessarily the same as the order in which they were added (though in Python 3.7 and later, dictionaries preserve insertion order as an implementation detail).\n",
        "\n",
        "python\n",
        "my_dict = {'a': 1, 'b': 2, 'c': 3}\n",
        "for key in my_dict:\n",
        "    print(key)\n",
        "# Output order is not guaranteed, but usually 'a', 'b', 'c' in Python 3.7+\n",
        "Efficiency: Because dictionaries use hashing, accessing a value by its key is very efficient (O(1) time complexity). However, since the elements are not stored in a particular order, you cannot rely on retrieving them in any specific sequence without explicitly sorting them.\n",
        "\n",
        "Iteration: When you need to iterate over the dictionary in a specific order, you may need to use methods like sorted() to sort the keys or items before iteration.\n",
        "\n",
        "python\n",
        "for key in sorted(my_dict.keys()):\n",
        "    print(key, my_dict[key])\n",
        "# Ensures keys are accessed in sorted order\n",
        "\n",
        "\n",
        "20.  Explain the difference between a list and a dictionary in terms of data retrieval.\n",
        "-->Aspect\tLists\tDictionaries\n",
        "* Data Retrieval Basis\tIndex (position)\tKey\n",
        "* Time Complexity\tO(n) for searching\tO(1) for key-based access\n",
        "* Data Structure\tOrdered\tUnordered (though maintains insertion order since Python 3.7)\n",
        "* Flexibility\tCan store duplicate elements\tKeys must be unique\n",
        "List:\n",
        "\n",
        "my_list = [10, 20, 30, 40]\n",
        "value = my_list[2]  # Retrieves the element at index 2, which is 30\n",
        "Dictionary:\n",
        "\n",
        "my_dict = {'a': 100, 'b': 200, 'c': 300}\n",
        "value = my_dict['b']  # Retrieves the value associated with the key 'b', wh"
      ],
      "metadata": {
        "id": "8XvduZkCywhb"
      }
    },
    {
      "cell_type": "code",
      "execution_count": 2,
      "metadata": {
        "colab": {
          "base_uri": "https://localhost:8080/"
        },
        "id": "_Ak2gObgyQkN",
        "outputId": "8b97b9dc-6782-4eee-de63-78d98f4f4247"
      },
      "outputs": [
        {
          "output_type": "stream",
          "name": "stdout",
          "text": [
            "Microsoft Copilot\n"
          ]
        }
      ],
      "source": [
        "# practical\n",
        "#1. Write a code to create a string with your name and print it?\n",
        "name = \"Microsoft Copilot\"\n",
        "print(name)"
      ]
    },
    {
      "cell_type": "code",
      "source": [
        "# 2.Write a code to find the length of the string \"Hello World\"\n",
        "string = \"Hello World\"\n",
        "length = len(string)\n",
        "print(\"The length of the string is:\", length)\n"
      ],
      "metadata": {
        "colab": {
          "base_uri": "https://localhost:8080/"
        },
        "id": "PeAhOn099ePB",
        "outputId": "9bf2b90b-cf12-4682-9750-bd44fe6b98ed"
      },
      "execution_count": 3,
      "outputs": [
        {
          "output_type": "stream",
          "name": "stdout",
          "text": [
            "The length of the string is: 11\n"
          ]
        }
      ]
    },
    {
      "cell_type": "code",
      "source": [
        "# 3. Write a code to slice the first 3 characters from the string \"Python Programming\"\n",
        "string = \"Python Programming\"\n",
        "sliced_string = string[:3]\n",
        "print(sliced_string)\n"
      ],
      "metadata": {
        "colab": {
          "base_uri": "https://localhost:8080/"
        },
        "id": "JBpQkPZ09m9j",
        "outputId": "2e28cf18-701b-42d7-88b4-c5729308525c"
      },
      "execution_count": 4,
      "outputs": [
        {
          "output_type": "stream",
          "name": "stdout",
          "text": [
            "Pyt\n"
          ]
        }
      ]
    },
    {
      "cell_type": "code",
      "source": [
        "#4. Write a code to convert the string \"hello\" to uppercase\n",
        "\n",
        "string = \"hello\"\n",
        "uppercase_string = string.upper()\n",
        "print(uppercase_string)\n"
      ],
      "metadata": {
        "colab": {
          "base_uri": "https://localhost:8080/"
        },
        "id": "T34Go8sv9yNu",
        "outputId": "cdc87235-fe14-48d9-a87f-85f491f08696"
      },
      "execution_count": 5,
      "outputs": [
        {
          "output_type": "stream",
          "name": "stdout",
          "text": [
            "HELLO\n"
          ]
        }
      ]
    },
    {
      "cell_type": "code",
      "source": [
        "#5.  Write a code to replace the word \"apple\" with \"orange\" in the string \"I like apple\"\n",
        "string = \"I like apple\"\n",
        "new_string = string.replace(\"apple\", \"orange\")\n",
        "print(new_string)\n"
      ],
      "metadata": {
        "colab": {
          "base_uri": "https://localhost:8080/"
        },
        "id": "foVqxWRX99sp",
        "outputId": "4f3632f6-6a7b-4fcf-97f0-39b4ba0e2a1f"
      },
      "execution_count": 6,
      "outputs": [
        {
          "output_type": "stream",
          "name": "stdout",
          "text": [
            "I like orange\n"
          ]
        }
      ]
    },
    {
      "cell_type": "code",
      "source": [
        "#6. Write a code to create a list with numbers 1 to 5 and print it\n",
        "my_list = [1, 2, 3, 4, 5]\n",
        "print(my_list)\n",
        "\n"
      ],
      "metadata": {
        "colab": {
          "base_uri": "https://localhost:8080/"
        },
        "id": "vYvVmAiN-Fos",
        "outputId": "07fd71bf-faad-4f16-a366-3e95cc011eab"
      },
      "execution_count": 7,
      "outputs": [
        {
          "output_type": "stream",
          "name": "stdout",
          "text": [
            "[1, 2, 3, 4, 5]\n"
          ]
        }
      ]
    },
    {
      "cell_type": "code",
      "source": [
        "#7. Write a code to append the number 10 to the list [1, 2, 3, 4]\n",
        "my_list = [1, 2, 3, 4]\n",
        "my_list.append(10)\n",
        "print(my_list)\n",
        "\n"
      ],
      "metadata": {
        "colab": {
          "base_uri": "https://localhost:8080/"
        },
        "id": "pPKkx-cL-PhZ",
        "outputId": "44c5f585-918d-4cc7-bf8d-1263ed3441a8"
      },
      "execution_count": 8,
      "outputs": [
        {
          "output_type": "stream",
          "name": "stdout",
          "text": [
            "[1, 2, 3, 4, 10]\n"
          ]
        }
      ]
    },
    {
      "cell_type": "code",
      "source": [
        "#8. Write a code to remove the number 3 from the list [1, 2, 3, 4, 5]\n",
        "my_list = [1, 2, 3, 4, 5]\n",
        "my_list.remove(3)\n",
        "print(my_list)\n"
      ],
      "metadata": {
        "colab": {
          "base_uri": "https://localhost:8080/"
        },
        "id": "hvtkTlSi-YNn",
        "outputId": "5ee1ce7f-e911-44f7-b86b-24bd77b1bb69"
      },
      "execution_count": 9,
      "outputs": [
        {
          "output_type": "stream",
          "name": "stdout",
          "text": [
            "[1, 2, 4, 5]\n"
          ]
        }
      ]
    },
    {
      "cell_type": "code",
      "source": [
        "# 9. Write a code to access the second element in the list ['a', 'b', 'c', 'd']\n",
        "my_list = ['a', 'b', 'c', 'd']\n",
        "second_element = my_list[1]\n",
        "print(second_element)\n"
      ],
      "metadata": {
        "colab": {
          "base_uri": "https://localhost:8080/"
        },
        "id": "4KntAusr-eZI",
        "outputId": "d3eae9ed-1e04-4dcf-aa53-062eb6e8412e"
      },
      "execution_count": 10,
      "outputs": [
        {
          "output_type": "stream",
          "name": "stdout",
          "text": [
            "b\n"
          ]
        }
      ]
    },
    {
      "cell_type": "code",
      "source": [
        "# 10.  Write a code to reverse the list [10, 20, 30, 40, 50].\n",
        "my_list = [10, 20, 30, 40, 50]\n",
        "reversed_list = my_list[::-1]\n",
        "print(reversed_list)\n"
      ],
      "metadata": {
        "colab": {
          "base_uri": "https://localhost:8080/"
        },
        "id": "YbzKVaOv-pE3",
        "outputId": "5c84cadf-7de4-44b0-824d-25e5277bc7d9"
      },
      "execution_count": 11,
      "outputs": [
        {
          "output_type": "stream",
          "name": "stdout",
          "text": [
            "[50, 40, 30, 20, 10]\n"
          ]
        }
      ]
    },
    {
      "cell_type": "code",
      "source": [
        "#11.Write a code to create a tuple with the elements 10, 20, 30 and print it.\n",
        "my_tuple = (10, 20, 30)\n",
        "print(my_tuple)\n"
      ],
      "metadata": {
        "colab": {
          "base_uri": "https://localhost:8080/"
        },
        "id": "NdI8G1q--0jR",
        "outputId": "bbbb99b1-1619-434c-d875-f4d649500ce6"
      },
      "execution_count": 12,
      "outputs": [
        {
          "output_type": "stream",
          "name": "stdout",
          "text": [
            "(10, 20, 30)\n"
          ]
        }
      ]
    },
    {
      "cell_type": "code",
      "source": [
        "# 12. Write a code to access the first element of the tuple ('apple', 'banana', 'cherry').\n",
        "my_tuple = ('apple', 'banana', 'cherry')\n",
        "first_element = my_tuple[0]\n",
        "print(first_element)\n",
        "\n"
      ],
      "metadata": {
        "colab": {
          "base_uri": "https://localhost:8080/"
        },
        "id": "R5ENpmvZ-7mC",
        "outputId": "71a404bb-4a15-4a37-c1c2-30581cb872c8"
      },
      "execution_count": 13,
      "outputs": [
        {
          "output_type": "stream",
          "name": "stdout",
          "text": [
            "apple\n"
          ]
        }
      ]
    },
    {
      "cell_type": "code",
      "source": [
        "# 13. Write a code to count how many times the number 2 appears in the tuple (1, 2, 3, 2, 4, 2).\n",
        "my_tuple = (1, 2, 3, 2, 4, 2)\n",
        "count_of_twos = my_tuple.count(2)\n",
        "print(count_of_twos)\n"
      ],
      "metadata": {
        "colab": {
          "base_uri": "https://localhost:8080/"
        },
        "id": "aca5a2n8_Fmz",
        "outputId": "ed5a56aa-fb3a-43f1-d8c2-3449a326e321"
      },
      "execution_count": 14,
      "outputs": [
        {
          "output_type": "stream",
          "name": "stdout",
          "text": [
            "3\n"
          ]
        }
      ]
    },
    {
      "cell_type": "code",
      "source": [
        "# 14. Write a code to find the index of the element \"cat\" in the tuple ('dog', 'cat', 'rabbit').\n",
        "my_tuple = ('dog', 'cat', 'rabbit')\n",
        "index_of_cat = my_tuple.index('cat')\n",
        "print(index_of_cat)\n"
      ],
      "metadata": {
        "colab": {
          "base_uri": "https://localhost:8080/"
        },
        "id": "kmhJRKHF_Nrq",
        "outputId": "c5279994-c299-458b-cdcf-58fc44e51199"
      },
      "execution_count": 16,
      "outputs": [
        {
          "output_type": "stream",
          "name": "stdout",
          "text": [
            "1\n"
          ]
        }
      ]
    },
    {
      "cell_type": "code",
      "source": [
        "# 15. Write a code to check if the element \"banana\" is in the tuple ('apple', 'orange', 'banana').\n",
        "my_tuple = ('apple', 'orange', 'banana')\n",
        "if 'banana' in my_tuple:\n",
        "    print(\"banana is in the tuple\")\n",
        "else:\n",
        "    print(\"banana is not in the tuple\")\n"
      ],
      "metadata": {
        "colab": {
          "base_uri": "https://localhost:8080/"
        },
        "id": "bezVCxWI_YXO",
        "outputId": "4cf415ee-866a-4471-db94-40068cee7ac7"
      },
      "execution_count": 17,
      "outputs": [
        {
          "output_type": "stream",
          "name": "stdout",
          "text": [
            "banana is in the tuple\n"
          ]
        }
      ]
    },
    {
      "cell_type": "code",
      "source": [
        "# 16. Write a code to create a set with the elements 1, 2, 3, 4, 5 and print it.\n",
        "my_set = {1, 2, 3, 4, 5}\n",
        "print(my_set)\n",
        "\n"
      ],
      "metadata": {
        "colab": {
          "base_uri": "https://localhost:8080/"
        },
        "id": "NzeCVrcV_ZT2",
        "outputId": "b5ad5184-3ed0-4b19-be1c-9049a4baab26"
      },
      "execution_count": 18,
      "outputs": [
        {
          "output_type": "stream",
          "name": "stdout",
          "text": [
            "{1, 2, 3, 4, 5}\n"
          ]
        }
      ]
    },
    {
      "cell_type": "code",
      "source": [
        "# 17. Write a code to add the element 6 to the set {1, 2, 3, 4}.\n",
        "\n",
        "my_set = {1, 2, 3, 4}\n",
        "my_set.add(6)\n",
        "print(my_set)\n",
        "\n"
      ],
      "metadata": {
        "colab": {
          "base_uri": "https://localhost:8080/"
        },
        "id": "BPp7pKY7_X8w",
        "outputId": "c296b417-a982-487e-ce2a-07313f52a4e2"
      },
      "execution_count": 19,
      "outputs": [
        {
          "output_type": "stream",
          "name": "stdout",
          "text": [
            "{1, 2, 3, 4, 6}\n"
          ]
        }
      ]
    },
    {
      "cell_type": "code",
      "source": [
        "#  18. Write a code to create a tuple with the elements 10, 20, 30 and print it.\n",
        "my_tuple = (10, 20, 30)\n",
        "print(my_tuple)\n"
      ],
      "metadata": {
        "colab": {
          "base_uri": "https://localhost:8080/"
        },
        "id": "m7a1n9he_0oY",
        "outputId": "db354085-777a-4120-b8b3-b2cf0569b434"
      },
      "execution_count": 20,
      "outputs": [
        {
          "output_type": "stream",
          "name": "stdout",
          "text": [
            "(10, 20, 30)\n"
          ]
        }
      ]
    },
    {
      "cell_type": "code",
      "source": [
        "# 19. Write a code to access the first element of the tuple ('apple', 'banana', 'cherry').\n",
        "my_tuple = ('apple', 'banana', 'cherry')\n",
        "first_element = my_tuple[0]\n",
        "print(first_element)\n"
      ],
      "metadata": {
        "colab": {
          "base_uri": "https://localhost:8080/"
        },
        "id": "-ZILsysv_93v",
        "outputId": "354050f1-cd7d-4df4-a894-0e80d1092b22"
      },
      "execution_count": 21,
      "outputs": [
        {
          "output_type": "stream",
          "name": "stdout",
          "text": [
            "apple\n"
          ]
        }
      ]
    },
    {
      "cell_type": "code",
      "source": [
        "# 20. Write a code to count how many times the number 2 appears in the tuple (1, 2, 3, 2, 4, 2).\n",
        "my_tuple = (1, 2, 3, 2, 4, 2)\n",
        "count_of_twos = my_tuple.count(2)\n",
        "print(count_of_twos)\n"
      ],
      "metadata": {
        "colab": {
          "base_uri": "https://localhost:8080/"
        },
        "id": "nUT06I4j_9tw",
        "outputId": "eb73dc75-2188-476f-b9e7-d50aff672836"
      },
      "execution_count": 22,
      "outputs": [
        {
          "output_type": "stream",
          "name": "stdout",
          "text": [
            "3\n"
          ]
        }
      ]
    },
    {
      "cell_type": "code",
      "source": [
        "#  21. Write a code to find the index of the element \"cat\" in the tuple ('dog', 'cat', 'rabbit').\n",
        "my_tuple = ('dog', 'cat', 'rabbit')\n",
        "index_of_cat = my_tuple.index('cat')\n",
        "print(index_of_cat)\n"
      ],
      "metadata": {
        "colab": {
          "base_uri": "https://localhost:8080/"
        },
        "id": "xt2sGPUB_9kG",
        "outputId": "b98ddc26-65cc-4a51-a608-58531d219cd3"
      },
      "execution_count": 23,
      "outputs": [
        {
          "output_type": "stream",
          "name": "stdout",
          "text": [
            "1\n"
          ]
        }
      ]
    },
    {
      "cell_type": "code",
      "source": [
        "#  22. Write a code to check if the element \"banana\" is in the tuple ('apple', 'orange', 'banana').\n",
        "my_tuple = ('apple', 'orange', 'banana')\n",
        "if 'banana' in my_tuple:\n",
        "    print(\"banana is in the tuple\")\n",
        "else:\n",
        "    print(\"banana is not in the tuple\")\n"
      ],
      "metadata": {
        "colab": {
          "base_uri": "https://localhost:8080/"
        },
        "id": "RDbTkcT2ASZI",
        "outputId": "4f4842e3-f603-46f1-fad6-42e4eaeabc9c"
      },
      "execution_count": 24,
      "outputs": [
        {
          "output_type": "stream",
          "name": "stdout",
          "text": [
            "banana is in the tuple\n"
          ]
        }
      ]
    },
    {
      "cell_type": "code",
      "source": [
        "# 23. Write a code to create a set with the elements 1, 2, 3, 4, 5 and print it.\n",
        "my_set = {1, 2, 3, 4, 5}\n",
        "print(my_set)\n"
      ],
      "metadata": {
        "colab": {
          "base_uri": "https://localhost:8080/"
        },
        "id": "L6OvxjrGAR22",
        "outputId": "1f55fea5-5e64-435b-e608-9e3bdae183b4"
      },
      "execution_count": 25,
      "outputs": [
        {
          "output_type": "stream",
          "name": "stdout",
          "text": [
            "{1, 2, 3, 4, 5}\n"
          ]
        }
      ]
    },
    {
      "cell_type": "code",
      "source": [
        "# 24. Write a code to add the element 6 to the set {1, 2, 3, 4}.\n",
        "my_set = {1, 2, 3, 4}\n",
        "my_set.add(6)\n",
        "print(my_set)\n"
      ],
      "metadata": {
        "colab": {
          "base_uri": "https://localhost:8080/"
        },
        "id": "T7CARKPCARu_",
        "outputId": "1f31a1fe-0f6c-4345-fa7d-a199ce91dca8"
      },
      "execution_count": 26,
      "outputs": [
        {
          "output_type": "stream",
          "name": "stdout",
          "text": [
            "{1, 2, 3, 4, 6}\n"
          ]
        }
      ]
    }
  ]
}